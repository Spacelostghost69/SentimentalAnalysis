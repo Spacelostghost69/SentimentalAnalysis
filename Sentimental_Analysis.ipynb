{
  "nbformat": 4,
  "nbformat_minor": 0,
  "metadata": {
    "colab": {
      "provenance": [],
      "authorship_tag": "ABX9TyNFF2UMpXGs745jkdy4b3/c",
      "include_colab_link": true
    },
    "kernelspec": {
      "name": "python3",
      "display_name": "Python 3"
    },
    "language_info": {
      "name": "python"
    }
  },
  "cells": [
    {
      "cell_type": "markdown",
      "metadata": {
        "id": "view-in-github",
        "colab_type": "text"
      },
      "source": [
        "<a href=\"https://colab.research.google.com/github/Spacelostghost69/SentimentalAnalysis/blob/main/Sentimental_Analysis.ipynb\" target=\"_parent\"><img src=\"https://colab.research.google.com/assets/colab-badge.svg\" alt=\"Open In Colab\"/></a>"
      ]
    },
    {
      "cell_type": "markdown",
      "source": [
        "Sentiment Analysis"
      ],
      "metadata": {
        "id": "K4iYPDJEKbGw"
      }
    },
    {
      "cell_type": "code",
      "execution_count": 2,
      "metadata": {
        "id": "QBPN9vA31I44",
        "colab": {
          "base_uri": "https://localhost:8080/"
        },
        "outputId": "07a0df50-c619-4f47-9a4a-0e21b4a304d1"
      },
      "outputs": [
        {
          "output_type": "stream",
          "name": "stdout",
          "text": [
            "[0]\n",
            "Accuracy: 0.967429236138038\n",
            "R-squared: 0.8103424125058656\n"
          ]
        }
      ],
      "source": [
        "import pandas as pd\n",
        "from sklearn.feature_extraction.text import CountVectorizer\n",
        "from sklearn.naive_bayes import MultinomialNB\n",
        "from sklearn.model_selection import train_test_split\n",
        "from sklearn.metrics import accuracy_score\n",
        "from sklearn.metrics import r2_score\n",
        "from sklearn.preprocessing import LabelEncoder\n",
        "\n",
        "df=pd.read_csv(\"a.csv\")\n",
        "df[\"text\"]=df[\"text\"].fillna(\"\")\n",
        "vectorizer=CountVectorizer()\n",
        "x=vectorizer.fit_transform(df[\"text\"])\n",
        "\n",
        "y=df[\"Label\"]\n",
        "model=MultinomialNB()\n",
        "model.fit(x,y)\n",
        "\n",
        "new_text=[\"its my bad day\"]\n",
        "x_new=vectorizer.transform(new_text)\n",
        "predictions=model.predict(x_new)\n",
        "print(predictions)\n",
        "\n",
        "x_train, x_test, y_train, y_test = train_test_split(x, y, test_size=0.25, random_state=42)\n",
        "\n",
        "model.fit(x_train, y_train)\n",
        "\n",
        "y_pred = model.predict(x_test)\n",
        "\n",
        "accuracy = accuracy_score(y_test, y_pred)\n",
        "print(f\"Accuracy: {accuracy}\")\n",
        "\n",
        "label_encoder=LabelEncoder()\n",
        "label_encoder.fit(y)\n",
        "y_test_encoded=label_encoder.transform(y_test)\n",
        "y_pred_encoded=label_encoder.transform(y_pred)\n",
        "r2 = r2_score(y_test_encoded, y_pred_encoded)\n",
        "print(f\"R-squared: {r2}\")"
      ]
    }
  ]
}